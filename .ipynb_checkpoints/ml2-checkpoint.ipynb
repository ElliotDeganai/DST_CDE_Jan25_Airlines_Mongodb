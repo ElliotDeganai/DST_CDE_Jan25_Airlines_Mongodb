{
 "cells": [
  {
   "cell_type": "code",
   "execution_count": 13,
   "id": "9ce73819-dc14-4f62-8d10-942900e07cad",
   "metadata": {},
   "outputs": [
    {
     "name": "stdout",
     "output_type": "stream",
     "text": [
      "_id                              416\n",
      "Departure_AirportCode            416\n",
      "Departure_Actual_Date            416\n",
      "Departure_Actual_Time            416\n",
      "Departure_Status_Code            416\n",
      "Arrival_AirportCode              416\n",
      "Arrival_Actual_Date              416\n",
      "Arrival_Actual_Time              416\n",
      "Arrival_Status_Code              416\n",
      "OperatingCarrier_AirlineID       416\n",
      "OperatingCarrier_FlightNumber    416\n",
      "Equipment_AircraftCode           416\n",
      "Status_Code                      416\n",
      "dtype: int64\n"
     ]
    }
   ],
   "source": [
    "import pandas as pd\n",
    "import numpy as np\n",
    "from sklearn.ensemble import RandomForestRegressor, RandomForestClassifier\n",
    "from sklearn.model_selection import train_test_split, GridSearchCV\n",
    "from sklearn.preprocessing import LabelEncoder, StandardScaler\n",
    "from sklearn.metrics import mean_absolute_error, accuracy_score, classification_report\n",
    "import asyncpg\n",
    "import asyncio\n",
    "import joblib\n",
    "import logging\n",
    "import requests\n",
    "import os\n",
    "from pymongo import MongoClient\n",
    "from flatten_json import flatten\n",
    "\n",
    "client_vps = MongoClient(\n",
    "    host = \"mongodb\",\n",
    "    port = 27017,\n",
    "    username = \"datascientest\",\n",
    "    password = \"dst123\"\n",
    ")\n",
    "mongodb_client = client_vps\n",
    "\n",
    "API_BASE_URL = os.getenv(\"API_BASE_URL\", \"http://localhost:8000\")  # Utiliser l'IP externe si configuré\n",
    "endpoint = '/flights-all'\n",
    "\n",
    "try:\n",
    "    response = requests.get(f\"{API_BASE_URL}{endpoint}\", timeout=10)\n",
    "    if response.status_code == 200:\n",
    "        dict_flattened = (flatten(record, '_') for record in response.json())\n",
    "        df = pd.DataFrame(dict_flattened)\n",
    "        #print(df.head())\n",
    "        #print(df.columns)\n",
    "        df_minimized = df.drop(['MarketingCarrierList_MarketingCarrier_AirlineID',\n",
    "               'MarketingCarrierList_MarketingCarrier_FlightNumber',\n",
    "               'MarketingCarrierList_MarketingCarrier_0_AirlineID',\n",
    "               'MarketingCarrierList_MarketingCarrier_0_FlightNumber',\n",
    "               'MarketingCarrierList_MarketingCarrier_1_AirlineID',\n",
    "               'MarketingCarrierList_MarketingCarrier_1_FlightNumber',\n",
    "               'MarketingCarrierList_MarketingCarrier_2_AirlineID',\n",
    "               'MarketingCarrierList_MarketingCarrier_2_FlightNumber',\n",
    "               'MarketingCarrierList_MarketingCarrier_3_AirlineID',\n",
    "               'MarketingCarrierList_MarketingCarrier_3_FlightNumber',\n",
    "               'MarketingCarrierList_MarketingCarrier_4_AirlineID',\n",
    "               'MarketingCarrierList_MarketingCarrier_4_FlightNumber',\n",
    "               'MarketingCarrierList_MarketingCarrier_5_AirlineID',\n",
    "               'MarketingCarrierList_MarketingCarrier_5_FlightNumber',\n",
    "               'MarketingCarrierList_MarketingCarrier_6_AirlineID',\n",
    "               'MarketingCarrierList_MarketingCarrier_6_FlightNumber',\n",
    "               'MarketingCarrierList_MarketingCarrier_7_AirlineID',\n",
    "               'MarketingCarrierList_MarketingCarrier_7_FlightNumber',\n",
    "               'MarketingCarrierList_MarketingCarrier_8_AirlineID',\n",
    "               'MarketingCarrierList_MarketingCarrier_8_FlightNumber',\n",
    "               'MarketingCarrierList_MarketingCarrier_9_AirlineID',\n",
    "               'MarketingCarrierList_MarketingCarrier_9_FlightNumber',\n",
    "               'MarketingCarrierList_MarketingCarrier_10_AirlineID',\n",
    "               'MarketingCarrierList_MarketingCarrier_10_FlightNumber',\n",
    "               'MarketingCarrierList_MarketingCarrier_11_AirlineID',\n",
    "               'MarketingCarrierList_MarketingCarrier_11_FlightNumber', 'Departure_Terminal_Gate',\n",
    "                               'Arrival_Terminal_Name', 'Arrival_Terminal_Gate', 'Arrival_Scheduled_Date',\n",
    "                               'Departure_Terminal_Name', 'Departure_Scheduled_Date', 'Departure_Scheduled_Time', 'Arrival_Scheduled_Date', 'Arrival_Scheduled_Time',\n",
    "                               'Status_Description', 'Departure_Status_Description', 'Arrival_Status_Description'], axis=1)\n",
    "        print(df_minimized.count())\n",
    "except Exception as e:\n",
    "    logger.error(f\"Erreur API {endpoint} : {e}\")\n",
    "    \n"
   ]
  },
  {
   "cell_type": "code",
   "execution_count": 14,
   "id": "2508524c-d65e-424b-843d-c36eaf8192eb",
   "metadata": {},
   "outputs": [
    {
     "name": "stdout",
     "output_type": "stream",
     "text": [
      "_id                              0\n",
      "Departure_AirportCode            0\n",
      "Departure_Actual_Date            0\n",
      "Departure_Actual_Time            0\n",
      "Departure_Status_Code            0\n",
      "Arrival_AirportCode              0\n",
      "Arrival_Actual_Date              0\n",
      "Arrival_Actual_Time              0\n",
      "Arrival_Status_Code              0\n",
      "OperatingCarrier_AirlineID       0\n",
      "OperatingCarrier_FlightNumber    0\n",
      "Equipment_AircraftCode           0\n",
      "Status_Code                      0\n",
      "dtype: int64\n",
      "_id                              416\n",
      "Departure_AirportCode            416\n",
      "Departure_Actual_Date            416\n",
      "Departure_Actual_Time            416\n",
      "Departure_Status_Code            416\n",
      "Arrival_AirportCode              416\n",
      "Arrival_Actual_Date              416\n",
      "Arrival_Actual_Time              416\n",
      "Arrival_Status_Code              416\n",
      "OperatingCarrier_AirlineID       416\n",
      "OperatingCarrier_FlightNumber    416\n",
      "Equipment_AircraftCode           416\n",
      "Status_Code                      416\n",
      "dtype: int64\n"
     ]
    }
   ],
   "source": [
    "print(df_minimized.isna().sum())\n",
    "print(df_minimized.count())"
   ]
  },
  {
   "cell_type": "code",
   "execution_count": 15,
   "id": "99001097-9177-4cb6-9b6c-d37b0936c44f",
   "metadata": {},
   "outputs": [
    {
     "name": "stdout",
     "output_type": "stream",
     "text": [
      "['2025-10-03' '2025-10-04' '2025-10-01' '2025-09-30']\n",
      "['2025-10-04' '2025-10-01']\n",
      "['LD' 'OT' 'DV']\n",
      "    Departure_Actual_Datetime\n",
      "0         2025-10-03 21:13:00\n",
      "1         2025-10-03 21:24:00\n",
      "2         2025-10-03 21:21:00\n",
      "3         2025-10-03 21:26:00\n",
      "4         2025-10-03 21:27:00\n",
      "..                        ...\n",
      "395       2025-10-01 09:44:00\n",
      "397       2025-10-01 09:04:00\n",
      "412       2025-10-01 07:52:00\n",
      "413       2025-10-01 09:19:00\n",
      "414       2025-10-01 06:40:00\n",
      "\n",
      "[249 rows x 1 columns]\n"
     ]
    }
   ],
   "source": [
    "print(df_minimized['Departure_Actual_Date'].unique())\n",
    "print(df_minimized['Arrival_Actual_Date'].unique())\n",
    "print(df_minimized['Status_Code'].unique())\n",
    "\n",
    "df_minimized['Departure_Actual_Datetime'] = pd.to_datetime(df['Departure_Actual_Date'] + ' ' + df['Departure_Actual_Time'])\n",
    "df_minimized['Arrival_Actual_Datetime'] = pd.to_datetime(df['Arrival_Actual_Date'] + ' ' + df['Arrival_Actual_Time'])\n",
    "#print(df_minimized.head())\n",
    "\n",
    "df_w_datetime = df_minimized.drop(['Departure_Actual_Date', 'Departure_Actual_Time', 'Arrival_Actual_Date', 'Arrival_Actual_Time'], axis=1)\n",
    "#print(df_w_datetime.head())\n",
    "print(df_w_datetime[['Departure_Actual_Datetime']].drop_duplicates())"
   ]
  },
  {
   "cell_type": "code",
   "execution_count": 7,
   "id": "78c1001d-391f-416d-8753-d54168ff18b5",
   "metadata": {},
   "outputs": [
    {
     "name": "stdout",
     "output_type": "stream",
     "text": [
      "['2025-09-13 15:00:00' '2025-09-13 18:00:00' '2025-09-13 21:00:00'\n",
      " '2025-09-14 00:00:00' '2025-09-14 03:00:00' '2025-09-14 06:00:00'\n",
      " '2025-09-14 09:00:00' '2025-09-14 12:00:00' '2025-09-14 15:00:00'\n",
      " '2025-09-14 18:00:00' '2025-09-14 21:00:00' '2025-09-15 00:00:00'\n",
      " '2025-09-15 03:00:00' '2025-09-15 06:00:00' '2025-09-15 09:00:00'\n",
      " '2025-09-15 12:00:00' '2025-09-15 15:00:00' '2025-09-15 18:00:00'\n",
      " '2025-09-15 21:00:00' '2025-09-16 00:00:00' '2025-09-16 03:00:00'\n",
      " '2025-09-16 06:00:00' '2025-09-16 09:00:00' '2025-09-16 12:00:00'\n",
      " '2025-09-16 15:00:00' '2025-09-16 18:00:00' '2025-09-16 21:00:00'\n",
      " '2025-09-17 00:00:00' '2025-09-17 03:00:00' '2025-09-17 06:00:00'\n",
      " '2025-09-17 09:00:00' '2025-09-17 12:00:00' '2025-09-17 15:00:00'\n",
      " '2025-09-17 18:00:00' '2025-09-17 21:00:00' '2025-09-18 00:00:00'\n",
      " '2025-09-18 03:00:00' '2025-09-18 06:00:00' '2025-09-18 09:00:00'\n",
      " '2025-09-18 12:00:00' '2025-10-02 06:00:00' '2025-10-02 09:00:00'\n",
      " '2025-10-02 12:00:00' '2025-10-02 15:00:00' '2025-10-02 18:00:00'\n",
      " '2025-10-02 21:00:00' '2025-10-03 00:00:00' '2025-10-03 03:00:00'\n",
      " '2025-10-03 06:00:00' '2025-10-03 09:00:00' '2025-10-03 12:00:00'\n",
      " '2025-10-03 15:00:00' '2025-10-03 18:00:00' '2025-10-03 21:00:00'\n",
      " '2025-10-04 00:00:00' '2025-10-04 03:00:00' '2025-10-04 06:00:00'\n",
      " '2025-10-04 09:00:00' '2025-10-04 12:00:00' '2025-10-04 15:00:00'\n",
      " '2025-10-04 18:00:00' '2025-10-04 21:00:00' '2025-10-05 00:00:00'\n",
      " '2025-10-05 03:00:00' '2025-10-05 06:00:00' '2025-10-05 09:00:00'\n",
      " '2025-10-05 12:00:00' '2025-10-05 15:00:00' '2025-10-05 18:00:00'\n",
      " '2025-10-05 21:00:00' '2025-10-06 00:00:00' '2025-10-06 03:00:00'\n",
      " '2025-10-06 06:00:00' '2025-10-06 09:00:00' '2025-10-06 12:00:00'\n",
      " '2025-10-06 15:00:00' '2025-10-06 18:00:00' '2025-10-06 21:00:00'\n",
      " '2025-10-07 00:00:00' '2025-10-07 03:00:00' '2025-10-07 06:00:00'\n",
      " '2025-10-07 09:00:00' '2025-10-07 12:00:00' '2025-10-07 15:00:00'\n",
      " '2025-10-07 18:00:00']\n"
     ]
    }
   ],
   "source": [
    "print(df['dt_txt'].unique())"
   ]
  },
  {
   "cell_type": "code",
   "execution_count": 32,
   "id": "74c89698-67d4-4c11-adfd-55b7d9b8d17b",
   "metadata": {},
   "outputs": [
    {
     "name": "stdout",
     "output_type": "stream",
     "text": [
      "                        _id Departure_AirportCode Departure_Status_Code  \\\n",
      "0  68e27a8913a58ecb37204024                   OUA                    DP   \n",
      "1  68e27a8913a58ecb37204025                   DSS                    DP   \n",
      "2  68e27a8913a58ecb37204026                   NSI                    DP   \n",
      "3  68e27a8913a58ecb37204027                   ROB                    DP   \n",
      "4  68e27a8913a58ecb37204028                   FIH                    DP   \n",
      "\n",
      "  Arrival_AirportCode Arrival_Status_Code OperatingCarrier_AirlineID  \\\n",
      "0                 BRU                  LD                         SN   \n",
      "1                 BRU                  LD                         SN   \n",
      "2                 BRU                  LD                         SN   \n",
      "3                 BRU                  LD                         SN   \n",
      "4                 BRU                  LD                         SN   \n",
      "\n",
      "  OperatingCarrier_FlightNumber Equipment_AircraftCode Status_Code  \\\n",
      "0                           256                    333          LD   \n",
      "1                           204                    333          LD   \n",
      "2                           369                    333          LD   \n",
      "3                           241                    333          LD   \n",
      "4                           358                    333          LD   \n",
      "\n",
      "  Departure_Actual_Datetime Arrival_Actual_Datetime  \\\n",
      "0       2025-10-03 21:13:00     2025-10-04 05:31:00   \n",
      "1       2025-10-03 21:24:00     2025-10-04 05:03:00   \n",
      "2       2025-10-03 21:21:00     2025-10-04 05:21:00   \n",
      "3       2025-10-03 21:26:00     2025-10-04 05:57:00   \n",
      "4       2025-10-03 21:27:00     2025-10-04 06:34:00   \n",
      "\n",
      "   ts_Departure_Actual_Datetime  ts_Arrival_Actual_Datetime  \n",
      "0           1759525980000000000         1759555860000000000  \n",
      "1           1759526640000000000         1759554180000000000  \n",
      "2           1759526460000000000         1759555260000000000  \n",
      "3           1759526760000000000         1759557420000000000  \n",
      "4           1759526820000000000         1759559640000000000  \n",
      "Index(['_id', 'Departure_AirportCode', 'Departure_Status_Code',\n",
      "       'Arrival_AirportCode', 'Arrival_Status_Code',\n",
      "       'OperatingCarrier_AirlineID', 'OperatingCarrier_FlightNumber',\n",
      "       'Equipment_AircraftCode', 'Status_Code', 'Departure_Actual_Datetime',\n",
      "       'Arrival_Actual_Datetime', 'ts_Departure_Actual_Datetime',\n",
      "       'ts_Arrival_Actual_Datetime'],\n",
      "      dtype='object')\n"
     ]
    }
   ],
   "source": [
    "import numpy as np\n",
    "\n",
    "print(df_w_datetime.head())\n",
    "df_w_datetime['ts_Departure_Actual_Datetime'] = pd.to_numeric(df_w_datetime['Departure_Actual_Datetime'].values)\n",
    "df_w_datetime['ts_Arrival_Actual_Datetime'] = pd.to_numeric(df_w_datetime['Arrival_Actual_Datetime'].values)\n",
    "\n",
    "print(df_w_datetime.columns)"
   ]
  },
  {
   "cell_type": "code",
   "execution_count": 34,
   "id": "847a0e24-43d6-4653-86cc-5181f5b6a725",
   "metadata": {},
   "outputs": [
    {
     "name": "stdout",
     "output_type": "stream",
     "text": [
      "Index(['_id', 'dt', 'main_temp', 'main_feels_like', 'main_temp_min',\n",
      "       'main_temp_max', 'main_pressure', 'main_sea_level', 'main_grnd_level',\n",
      "       'main_humidity', 'main_temp_kf', 'weather_0_id', 'weather_0_main',\n",
      "       'weather_0_description', 'weather_0_icon', 'clouds_all', 'wind_speed',\n",
      "       'wind_deg', 'wind_gust', 'visibility', 'pop', 'rain_3h', 'sys_pod',\n",
      "       'dt_txt', 'AirportCode'],\n",
      "      dtype='object')\n"
     ]
    }
   ],
   "source": [
    "endpoint = '/weathers-airport?airport_code=BRU'\n",
    "\n",
    "try:\n",
    "    response = requests.get(f\"{API_BASE_URL}{endpoint}\", timeout=10)\n",
    "    if response.status_code == 200:\n",
    "        dict_flattened = (flatten(record, '_') for record in response.json())\n",
    "        weather = pd.DataFrame(dict_flattened)\n",
    "        print(weather.columns)\n",
    "except Exception as e:\n",
    "    logger.error(f\"Erreur API {endpoint} : {e}\")"
   ]
  },
  {
   "cell_type": "code",
   "execution_count": null,
   "id": "ca3f66a0-2623-4b31-9dbb-e0507d80a58c",
   "metadata": {},
   "outputs": [],
   "source": [
    "df_w_datetime = flight.sort_values(\"ts_Arrival_Actual_Datetime\")\n",
    "weather = weather.sort_values(\"dt\")\n",
    "\n",
    "merged = pd.merge_asof(\n",
    "    df_w_datetime,\n",
    "    weather,\n",
    "    by=\"Arrival_AirportCode\",  # clé d’aéroport\n",
    "    left_on=\"ts_Arrival_Actual_Datetime\",\n",
    "    right_on=\"dt\",\n",
    "    direction=\"nearest\"  # on cherche le weather le plus proche\n",
    ")\n",
    "\n",
    "print(merged)"
   ]
  },
  {
   "cell_type": "code",
   "execution_count": null,
   "id": "61240570-f75f-400f-9ce3-bf50d5664852",
   "metadata": {},
   "outputs": [],
   "source": [
    "print(df.loc[df['AirportCode'] == 'BRU' && ])"
   ]
  }
 ],
 "metadata": {
  "kernelspec": {
   "display_name": "Python 3.8",
   "language": "python",
   "name": "py38"
  },
  "language_info": {
   "codemirror_mode": {
    "name": "ipython",
    "version": 3
   },
   "file_extension": ".py",
   "mimetype": "text/x-python",
   "name": "python",
   "nbconvert_exporter": "python",
   "pygments_lexer": "ipython3",
   "version": "3.8.10"
  }
 },
 "nbformat": 4,
 "nbformat_minor": 5
}
